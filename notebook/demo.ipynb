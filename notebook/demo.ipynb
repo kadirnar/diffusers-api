{
 "cells": [
  {
   "cell_type": "code",
   "execution_count": 1,
   "metadata": {},
   "outputs": [],
   "source": [
    "import sys\n",
    "\n",
    "sys.path.append('../')"
   ]
  },
  {
   "cell_type": "code",
   "execution_count": 2,
   "metadata": {},
   "outputs": [
    {
     "name": "stderr",
     "output_type": "stream",
     "text": [
      "/Users/kadirnar/miniconda3/envs/mac_gpu/lib/python3.10/site-packages/tqdm/auto.py:21: TqdmWarning: IProgress not found. Please update jupyter and ipywidgets. See https://ipywidgets.readthedocs.io/en/stable/user_install.html\n",
      "  from .autonotebook import tqdm as notebook_tqdm\n",
      "Loading pipeline components...: 100%|██████████| 5/5 [00:00<00:00, 20.44it/s]\n"
     ]
    }
   ],
   "source": [
    "from diffusers_api.models.stable_diffusion_text2image import StableDiffusionText2ImageModel\n",
    "\n",
    "# Load the model\n",
    "model = StableDiffusionText2ImageModel(model_name=\"SG161222/Realistic_Vision_V5.1_noVAE\")"
   ]
  },
  {
   "cell_type": "code",
   "execution_count": 5,
   "metadata": {},
   "outputs": [
    {
     "name": "stderr",
     "output_type": "stream",
     "text": [
      "100%|██████████| 30/30 [00:10<00:00,  2.73it/s]\n"
     ]
    }
   ],
   "source": [
    "# Generate an image from a text prompt\n",
    "output = model.generate_image(\n",
    "    prompt=\"A photo of a cat\",\n",
    "    negative_prompt=\"bad\",\n",
    "    num_inference_steps=30,\n",
    "    height=512,\n",
    "    width=512,\n",
    "    num_images_per_prompt=1,\n",
    "    guidance_scale=0.0,\n",
    ")[0]"
   ]
  },
  {
   "cell_type": "code",
   "execution_count": null,
   "metadata": {},
   "outputs": [],
   "source": [
    "output[0]"
   ]
  }
 ],
 "metadata": {
  "kernelspec": {
   "display_name": "mac_gpu",
   "language": "python",
   "name": "python3"
  },
  "language_info": {
   "codemirror_mode": {
    "name": "ipython",
    "version": 3
   },
   "file_extension": ".py",
   "mimetype": "text/x-python",
   "name": "python",
   "nbconvert_exporter": "python",
   "pygments_lexer": "ipython3",
   "version": "3.10.13"
  }
 },
 "nbformat": 4,
 "nbformat_minor": 2
}
